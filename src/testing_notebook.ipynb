{
 "cells": [
  {
   "cell_type": "code",
   "execution_count": 357,
   "metadata": {},
   "outputs": [],
   "source": [
    "from data import Data\n",
    "from methods import MABMethod\n",
    "import numpy as np\n",
    "import math\n",
    "import matplotlib.pyplot as plt"
   ]
  },
  {
   "cell_type": "code",
   "execution_count": 358,
   "metadata": {},
   "outputs": [],
   "source": [
    "## Define radius\n",
    "def raddist(x,y):\n",
    "    return math.sqrt((x-.5)**2+(y-.5)**2)\n",
    "def isAnomaly(x,y):\n",
    "    return (raddist(x,y)>.5)\n",
    "def label(instance):\n",
    "    if (isAnomaly(instance[0], instance[1])):\n",
    "        return 1\n",
    "    else:\n",
    "        return -1\n",
    "\n",
    "\n",
    "## Create toy data set\n",
    "domain_1 = np.random.default_rng(seed=125).random((35,2))\n",
    "domain_2 = np.random.default_rng(seed=45).random((35,2))\n",
    "anomalies_1 = []\n",
    "anomalies_2 = []\n",
    "normals_1 = []\n",
    "normals_2 = []\n",
    "\n",
    "for instance in domain_1:\n",
    "    if isAnomaly(instance[0], instance[1]):\n",
    "        anomalies_1.append(instance)\n",
    "    else:\n",
    "        normals_1.append(instance)\n",
    "\n",
    "for instance in domain_2:\n",
    "    if isAnomaly(instance[0], instance[1]):\n",
    "        anomalies_2.append(instance)\n",
    "    else:\n",
    "        normals_2.append(instance)\n",
    "\n",
    "anomalies_1 = np.asarray(anomalies_1)\n",
    "anomalies_2 = np.asarray(anomalies_2)\n",
    "normals_1 = np.asarray(normals_1)\n",
    "normals_2 = np.asarray(normals_2)\n",
    "\n",
    "\n",
    "fig, ax = plt.subplots( nrows=1, ncols=1 )  # create figure & 1 axis\n",
    "ax.scatter(normals_1[:,0], normals_1[:,1], c= 'b')\n",
    "ax.scatter(normals_2[:,0], normals_2[:,1], c= 'g')\n",
    "if (len(anomalies_1)>0):\n",
    "    ax.scatter(anomalies_1[:,0], anomalies_1[:,1], c= 'b', marker='+')\n",
    "if (len(anomalies_2)>0):\n",
    "    ax.scatter(anomalies_2[:,0], anomalies_2[:,1], c= 'g', marker='+')\n",
    "fig.savefig('img/original.png',bbox_inches='tight')\n",
    "plt.close(fig)\n",
    "\n"
   ]
  },
  {
   "cell_type": "code",
   "execution_count": null,
   "metadata": {},
   "outputs": [],
   "source": []
  },
  {
   "cell_type": "code",
   "execution_count": 359,
   "metadata": {},
   "outputs": [],
   "source": [
    "def getPrediction(alba: MABMethod, data: Data):\n",
    "    pos = {}\n",
    "    neg = {}\n",
    "    predictions = alba.predict(data)\n",
    "    for key in predictions.keys():\n",
    "        posdummy = []\n",
    "        negdummy = []\n",
    "        for i in range(len(predictions[key])):\n",
    "            if predictions[key][i]==-1:\n",
    "                negdummy.append(data.get_domain(key)[i])\n",
    "            elif predictions[key][i]==1:\n",
    "                posdummy.append(data.get_domain(key)[i])\n",
    "        pos[key] = np.asarray(posdummy)\n",
    "        neg[key] = np.asarray(negdummy)\n",
    "    return neg, pos\n",
    "def currentPrediction(alba, data, labeledPos = None, labeledNeg = None, t=0):\n",
    "    neg, pos = getPrediction(alba, data)\n",
    "    neg_1, neg_2 = neg.values()\n",
    "    pos_1, pos_2 = pos.values()\n",
    "    fig, ax = plt.subplots( nrows=1, ncols=1 )  # create figure & 1 axis\n",
    "    if (len(neg_1)>0):\n",
    "        ax.scatter(neg_1[:,0], neg_1[:,1], c= 'b')\n",
    "    if (len(neg_2)>0):\n",
    "        ax.scatter(neg_2[:,0], neg_2[:,1], c= 'g')\n",
    "    if (len(pos_1)>0):\n",
    "        ax.scatter(pos_1[:,0], pos_1[:,1], c= 'b', marker='+')\n",
    "    if (len(pos_2)>0):\n",
    "        ax.scatter(pos_2[:,0], pos_2[:,1], c= 'g', marker='+')\n",
    "    if (len(labeledPos)>0):\n",
    "        ax.scatter(labeledPos[:,0], labeledPos[:,1], c = 'r', marker = '+')\n",
    "    if (len(labeledNeg)>0):\n",
    "        ax.scatter(labeledNeg[:,0], labeledNeg[:,1], c = 'r', marker = 'o')\n",
    "    fig.savefig('img/iteration'+str(t).zfill(3)+'.png',bbox_inches='tight')\n",
    "    plt.close(fig)"
   ]
  },
  {
   "cell_type": "code",
   "execution_count": 360,
   "metadata": {},
   "outputs": [],
   "source": [
    "## Create 2 domains\n",
    "training_data = Data(2)\n",
    "training_data.set_domains_and_labels({0:domain_1, 1:domain_2})\n",
    "query_budget = 70\n",
    "alba = MABMethod(mab=\"rotting-swa\", query_budget=query_budget, verbose=True )\n"
   ]
  },
  {
   "cell_type": "code",
   "execution_count": 361,
   "metadata": {},
   "outputs": [],
   "source": [
    "t = 0  \n",
    "labeledPos = []\n",
    "labeledNeg = []\n",
    "\n",
    "import warnings\n",
    "warnings.filterwarnings('ignore')\n",
    "\n",
    "while(t<query_budget):\n",
    "    queries = alba.fit_query(training_data, True)\n",
    "\n",
    "    key,idx = queries[0]\n",
    "    instance = training_data.get_domain(key)[idx]\n",
    "    training_data.set_new_label(key, idx, label(instance))\n",
    "    training_data.set_last_labeled(key,idx)\n",
    "    if (label(instance) == 1):\n",
    "        labeledPos.append(instance)\n",
    "    else:\n",
    "        labeledNeg.append(instance)\n",
    "\n",
    "\n",
    "    currentPrediction(alba, training_data, np.asarray(labeledPos), np.asarray(labeledNeg), t)\n",
    "\n",
    "    t += 1"
   ]
  },
  {
   "cell_type": "code",
   "execution_count": 362,
   "metadata": {},
   "outputs": [
    {
     "name": "stdout",
     "output_type": "stream",
     "text": [
      "['iteration000.png', 'iteration001.png', 'iteration002.png', 'iteration003.png', 'iteration004.png', 'iteration005.png', 'iteration006.png', 'iteration007.png', 'iteration008.png', 'iteration009.png', 'iteration010.png', 'iteration011.png', 'iteration012.png', 'iteration013.png', 'iteration014.png', 'iteration015.png', 'iteration016.png', 'iteration017.png', 'iteration018.png', 'iteration019.png', 'iteration020.png', 'iteration021.png', 'iteration022.png', 'iteration023.png', 'iteration024.png', 'iteration025.png', 'iteration026.png', 'iteration027.png', 'iteration028.png', 'iteration029.png', 'iteration030.png', 'iteration031.png', 'iteration032.png', 'iteration033.png', 'iteration034.png', 'iteration035.png', 'iteration036.png', 'iteration037.png', 'iteration038.png', 'iteration039.png', 'iteration040.png', 'iteration041.png', 'iteration042.png', 'iteration043.png', 'iteration044.png', 'iteration045.png', 'iteration046.png', 'iteration047.png', 'iteration048.png', 'iteration049.png', 'iteration050.png', 'iteration051.png', 'iteration052.png', 'iteration053.png', 'iteration054.png', 'iteration055.png', 'iteration056.png', 'iteration057.png', 'iteration058.png', 'iteration059.png', 'iteration060.png', 'iteration061.png', 'iteration062.png', 'iteration063.png', 'iteration064.png', 'iteration065.png', 'iteration066.png', 'iteration067.png', 'iteration068.png', 'iteration069.png', 'original.png']\n"
     ]
    }
   ],
   "source": [
    "import cv2\n",
    "import os\n",
    "\n",
    "image_folder = 'img'\n",
    "video_name = 'video.avi'\n",
    "\n",
    "images = [img for img in os.listdir(image_folder) if img.endswith(\".png\")]\n",
    "print(images)\n",
    "frame = cv2.imread(os.path.join(image_folder, images[0]))\n",
    "height, width, layers = frame.shape\n",
    "\n",
    "video = cv2.VideoWriter(video_name, 0, 1, (width,height))\n",
    "\n",
    "for image in images:\n",
    "    video.write(cv2.imread(os.path.join(image_folder, image)))\n",
    "\n",
    "video.release()"
   ]
  }
 ],
 "metadata": {
  "kernelspec": {
   "display_name": "base",
   "language": "python",
   "name": "python3"
  },
  "language_info": {
   "codemirror_mode": {
    "name": "ipython",
    "version": 3
   },
   "file_extension": ".py",
   "mimetype": "text/x-python",
   "name": "python",
   "nbconvert_exporter": "python",
   "pygments_lexer": "ipython3",
   "version": "3.7.3"
  },
  "orig_nbformat": 4
 },
 "nbformat": 4,
 "nbformat_minor": 2
}
